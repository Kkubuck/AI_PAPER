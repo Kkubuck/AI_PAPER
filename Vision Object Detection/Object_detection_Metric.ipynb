{
  "nbformat": 4,
  "nbformat_minor": 0,
  "metadata": {
    "colab": {
      "name": "Object detection Metric.ipynb",
      "provenance": []
    },
    "kernelspec": {
      "name": "python3",
      "display_name": "Python 3"
    },
    "language_info": {
      "name": "python"
    }
  },
  "cells": [
    {
      "cell_type": "markdown",
      "source": [
        "## IOU(Intersection Over Union)"
      ],
      "metadata": {
        "id": "Fm22MQYNh1ZU"
      }
    },
    {
      "cell_type": "code",
      "execution_count": 1,
      "metadata": {
        "id": "LR2Bp7yFtVhz"
      },
      "outputs": [],
      "source": [
        "import torch\n",
        "\n",
        "def intersection_over_union(boxes_preds, boxes_labels, box_format = \"midpoint\"):\n",
        "  # boxes_preds shape is (N, 4) Where N is the Number of bboxes\n",
        "  # boxes_labels shape is (N, 4)\n",
        "\n",
        "  if box_format == \"midpoint\":\n",
        "    \tbox1_x1 = boxes_preds[..., 0:1] - boxes_preds[..., 2:3] / 2\n",
        "    \tbox1_y1 = boxes_preds[..., 1:2] - boxes_preds[..., 3:4] / 2\n",
        "    \tbox1_x2 = boxes_preds[..., 0:1] + boxes_preds[..., 2:3] / 2\n",
        "    \tbox1_y2 = boxes_preds[..., 1:2] + boxes_preds[..., 3:4] / 2\n",
        "    \tbox2_x1 = boxes_labels[..., 0:1] - boxes_labels[..., 2:3] / 2\n",
        "    \tbox2_y1 = boxes_labels[..., 1:2] - boxes_labels[..., 3:4] / 2\n",
        "    \tbox2_x2 = boxes_labels[..., 0:1] + boxes_labels[..., 2:3] / 2\n",
        "    \tbox2_y2 = boxes_labels[..., 1:2] + boxes_labels[..., 3:4] / 2\n",
        "\n",
        "  if box_format == \"corners\":\n",
        "    box1_x1 = boxes_preds[..., 0:1]\n",
        "    box1_y1 = boxes_preds[..., 1:2]\n",
        "    box1_x2 = boxes_preds[..., 2:3]\n",
        "    box1_y2 = boxes_preds[..., 3:4]     # (N, 1)\n",
        "\n",
        "    box2_x1 = boxes_labels[..., 0:1]\n",
        "    box2_y1 = boxes_labels[..., 1:2]\n",
        "    box2_x2 = boxes_labels[..., 2:3]\n",
        "    box2_y2 = boxes_labels[..., 3:4]\n",
        "  \n",
        "  x1 = torch.max(box1_x1, box2_x1)\n",
        "  y1 = torch.max(box1_y1, box2_y1)\n",
        "  x2 = torch.min(box1_x2, box2_x2)\n",
        "  y2 = torch.min(box1_y2, box2_y2)\n",
        "\n",
        "  # clamp(0) is for the case when they do not intersect\n",
        "  intersection = (x2 - x1).clamp(0) * (y2 - y1).clamp(0)\n",
        "\n",
        "  box1_area = abs((box1_x2 - box1_x1) * (box1_y1 - box1_y2))\n",
        "  box2_area = abs((box2_x2 - box2_x1) * (box2_y1 - box2_y2))\n",
        "\n",
        "  return intersection / (box1_area + box2_area - intersection + 1e-6)  "
      ]
    },
    {
      "cell_type": "markdown",
      "source": [
        "## NMS(None-Maximum Suppression)"
      ],
      "metadata": {
        "id": "ROSgoRUeh45V"
      }
    },
    {
      "cell_type": "code",
      "source": [
        "import torch\n",
        "\n",
        "def nms(bboxes, iou_threshold, threshold, box_format = \"corners\"):\n",
        "  \n",
        "  # bboxes가 list인지 확인합니다.\n",
        "  assert type(bboxes) == list\n",
        "\n",
        "  # box 점수가 threshold보다 높은 것을 선별한다.\n",
        "  # box shape는 [class, score, x1, y1, x2, h2] 이다\n",
        "\n",
        "  bboxes = [box for box in bboxes if box[1] > threshold]\n",
        "  # 정렬\n",
        "  bboxes = sorted(bboxes, key = lambda x : x[1], reverse = True)\n",
        "  bboxes_after_num = []\n",
        "\n",
        "  while bboxes:\n",
        "    chosen_box = bboxes.pop(0)\n",
        "\n",
        "        # box가 선택된 box와의 iou가 임계치보다 낮거나\n",
        "        # class가 다르다면 bboxes에 남기고, 그 이외는 다 없앱니다.\n",
        "    bboxes = [box for box in bboxes if box[0] != chosen_box[0] \\\n",
        "          or intersection_over_union(torch.tensor(chosen_box[2:]),\n",
        "                                     torch.tensor(box[2:]),\n",
        "                                     box_format=box_format) < iou_threshold]\n",
        "\n",
        "        # 선택된 박스를 추가합니다.\n",
        "    bboxes_after_nmn.append(chosen_box)\n",
        "\n",
        "    return bboxes_after_nmn"
      ],
      "metadata": {
        "id": "L9O6k-NT0LUb"
      },
      "execution_count": 2,
      "outputs": []
    },
    {
      "cell_type": "markdown",
      "source": [
        "## mAP(mean Average Precision)"
      ],
      "metadata": {
        "id": "3Rnay2oQiFeJ"
      }
    },
    {
      "cell_type": "code",
      "source": [
        "import torch\n",
        "from collections import Counter\n",
        "\n",
        "def mean_average_precision(pred_boxes, true_boxes, iou_threshold = 0.5, box_format = 'corners', num_classes = 20):\n",
        "  average_precision = []\n",
        "  epsilon = 1e-6\n",
        "\n",
        "  # 각각의 클래스에 대한 AP를 구합니다.\n",
        "  for c in range(num_classes):\n",
        "    detections = []\n",
        "    ground_truths = []\n",
        "\n",
        "    # 모델이 c를 검출한 bounding box를 detections에 추가합니다.\n",
        "    for detection in pred_boxes:\n",
        "      if detection[1] == c:\n",
        "        detections.append(detection)\n",
        "    \n",
        "    # 실제 c인 bounding box를 ground_truths에 추가합니다.\n",
        "    for true_box in true_boxes:\n",
        "      if true_box[1] == c:\n",
        "        ground_truths.append(ture_box)\n",
        "\n",
        "    \n",
        "    # amount_bboxes에 class에 대한 bounding box 개수를 저장합니다.\n",
        "    # 예를 들어, img 0은 3개의 bboxe를 갖고 있고, img 1은 5개의 bboxes를 갖고 있으면\n",
        "    # dictionary 형태로 개수가 지정됩니다.\n",
        "    amount_bboxes = Counter([gt[0] for gt in ground_truths])\n",
        "\n",
        "\n",
        "    # class에 대한 bounding boc 개수 만큼 0을 추가한다.\n",
        "    # amount_boxes \n",
        "    for key, val in amount_bboxes.items():\n",
        "      amount_bboxes[key] = torch.zeros(val)\n",
        "    \n",
        "    # detections를 정확도 높은 순으로 정렬합니다.\n",
        "    detections.sort(key = lambda x : x[2], reverse = True)\n",
        "\n",
        "    TP = torch.zeros((len(detections)))\n",
        "    FP = torch.zeros((len(detections)))\n",
        "    total_true_bboxes = len(ground_truths)\n",
        "\n",
        "\n",
        "    # Tp, fp 를 구합니다.\n",
        "    for detection_idx, detection in enumerate(detections):\n",
        "      ground_truth_img = [bbox for bbox in ground_truths if bbox[0] == detection[0]]\n",
        "      num_gts = len(ground_truth_img)\n",
        "      best_iou = 0\n",
        "\n",
        "      for idx, gt in enumerate(ground_truth_img):\n",
        "        iou = intersection_over_union(torch.tensor(detection[3:]),\n",
        "                                      torch.tensor(gt[3:]),\n",
        "                                      box_format = box_format)\n",
        "        \n",
        "        if iou > best_iou:\n",
        "          best_iou = iou\n",
        "          best_gt_idx = idx\n",
        "      \n",
        "      if best_iou > iou_threshold:\n",
        "        if amount_bboxes[detection[0]][best_gt_idx] == 0:\n",
        "          TP[detection_idx] = 1\n",
        "          amount_bboxes[detection[0]][best_gt_idx] = 1\n",
        "        else:\n",
        "          FP[detection_idx] = 1\n",
        "\n",
        "    # 누적합\n",
        "    TP_cumsum = torch.cumsim(TP, dim = 0)\n",
        "    FP_cumsum = torch.cumsum(FP, dim = 0)\n",
        "    recalls = TP_cumsum / (total_true_bboxes + epsilon)\n",
        "    precisions = torch.divide(TP_cumsum, (TP_cumsum + FP_cumsum + epsilon))\n",
        "    precisions = torch.cat((torch.tensor([1]), precisions))\n",
        "    recalls = torch.cat((torch.tensor([0]), recalls))\n",
        "    \n",
        "    # 그래프 적분\n",
        "    average_precision.append(torch.trapz(precisions, recalls))\n",
        "  \n",
        "\n",
        "  return sum(average_precisions) / len(average_precisions)\n",
        "\n"
      ],
      "metadata": {
        "id": "EI015e_q-9Kh"
      },
      "execution_count": 5,
      "outputs": []
    }
  ]
}