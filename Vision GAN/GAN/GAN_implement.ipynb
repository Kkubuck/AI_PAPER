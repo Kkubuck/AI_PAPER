{
 "cells": [
  {
   "cell_type": "code",
   "execution_count": 1,
   "id": "fd17f6c7",
   "metadata": {},
   "outputs": [],
   "source": [
    "import torch\n",
    "import torch.nn as nn\n",
    "import torch.nn.functional as F\n",
    "\n",
    "from torchvision import datasets\n",
    "import torchvision.transforms as transforms\n",
    "from torch.utils.data import DataLoader\n",
    "from torchvision.transforms.functional import to_pil_image\n",
    "import matplotlib.pylab as plt\n",
    "%matplotlib inline\n",
    "\n",
    "import os\n",
    "import numpy as np\n",
    "import time\n",
    "\n",
    "device = torch.device('cuda' if torch.cuda.is_available() else 'cpu')"
   ]
  },
  {
   "cell_type": "code",
   "execution_count": 3,
   "id": "8e22ec9b",
   "metadata": {},
   "outputs": [],
   "source": [
    "path2data = './data'\n",
    "os.makedirs(path2data, exist_ok=True) # 폴더 생성"
   ]
  },
  {
   "cell_type": "code",
   "execution_count": 4,
   "id": "6350e24b",
   "metadata": {
    "collapsed": true
   },
   "outputs": [
    {
     "name": "stdout",
     "output_type": "stream",
     "text": [
      "Downloading http://yann.lecun.com/exdb/mnist/train-images-idx3-ubyte.gz\n",
      "Downloading http://yann.lecun.com/exdb/mnist/train-images-idx3-ubyte.gz to ./data\\MNIST\\raw\\train-images-idx3-ubyte.gz\n"
     ]
    },
    {
     "data": {
      "application/vnd.jupyter.widget-view+json": {
       "model_id": "7d5b725f10b3447da7f1f2b3afe024c3",
       "version_major": 2,
       "version_minor": 0
      },
      "text/plain": [
       "  0%|          | 0/9912422 [00:00<?, ?it/s]"
      ]
     },
     "metadata": {},
     "output_type": "display_data"
    },
    {
     "name": "stdout",
     "output_type": "stream",
     "text": [
      "Extracting ./data\\MNIST\\raw\\train-images-idx3-ubyte.gz to ./data\\MNIST\\raw\n",
      "\n",
      "Downloading http://yann.lecun.com/exdb/mnist/train-labels-idx1-ubyte.gz\n",
      "Downloading http://yann.lecun.com/exdb/mnist/train-labels-idx1-ubyte.gz to ./data\\MNIST\\raw\\train-labels-idx1-ubyte.gz\n"
     ]
    },
    {
     "data": {
      "application/vnd.jupyter.widget-view+json": {
       "model_id": "0a2a498f8f534e0e8c421f003667dd35",
       "version_major": 2,
       "version_minor": 0
      },
      "text/plain": [
       "  0%|          | 0/28881 [00:00<?, ?it/s]"
      ]
     },
     "metadata": {},
     "output_type": "display_data"
    },
    {
     "name": "stdout",
     "output_type": "stream",
     "text": [
      "Extracting ./data\\MNIST\\raw\\train-labels-idx1-ubyte.gz to ./data\\MNIST\\raw\n",
      "\n",
      "Downloading http://yann.lecun.com/exdb/mnist/t10k-images-idx3-ubyte.gz\n",
      "Downloading http://yann.lecun.com/exdb/mnist/t10k-images-idx3-ubyte.gz to ./data\\MNIST\\raw\\t10k-images-idx3-ubyte.gz\n"
     ]
    },
    {
     "data": {
      "application/vnd.jupyter.widget-view+json": {
       "model_id": "def8f4f9e8c241cd8bd9971ede185aa3",
       "version_major": 2,
       "version_minor": 0
      },
      "text/plain": [
       "  0%|          | 0/1648877 [00:00<?, ?it/s]"
      ]
     },
     "metadata": {},
     "output_type": "display_data"
    },
    {
     "name": "stdout",
     "output_type": "stream",
     "text": [
      "Extracting ./data\\MNIST\\raw\\t10k-images-idx3-ubyte.gz to ./data\\MNIST\\raw\n",
      "\n",
      "Downloading http://yann.lecun.com/exdb/mnist/t10k-labels-idx1-ubyte.gz\n",
      "Downloading http://yann.lecun.com/exdb/mnist/t10k-labels-idx1-ubyte.gz to ./data\\MNIST\\raw\\t10k-labels-idx1-ubyte.gz\n"
     ]
    },
    {
     "data": {
      "application/vnd.jupyter.widget-view+json": {
       "model_id": "46958c8aac3f4c86ae6e5618f018d132",
       "version_major": 2,
       "version_minor": 0
      },
      "text/plain": [
       "  0%|          | 0/4542 [00:00<?, ?it/s]"
      ]
     },
     "metadata": {},
     "output_type": "display_data"
    },
    {
     "name": "stdout",
     "output_type": "stream",
     "text": [
      "Extracting ./data\\MNIST\\raw\\t10k-labels-idx1-ubyte.gz to ./data\\MNIST\\raw\n",
      "\n"
     ]
    },
    {
     "name": "stderr",
     "output_type": "stream",
     "text": [
      "C:\\Users\\c\\.conda\\envs\\pytorch\\lib\\site-packages\\torchvision\\datasets\\mnist.py:498: UserWarning: The given NumPy array is not writeable, and PyTorch does not support non-writeable tensors. This means you can write to the underlying (supposedly non-writeable) NumPy array using the tensor. You may want to copy the array to protect its data or make it writeable before converting it to a tensor. This type of warning will be suppressed for the rest of this program. (Triggered internally at  ..\\torch\\csrc\\utils\\tensor_numpy.cpp:143.)\n",
      "  return torch.from_numpy(parsed.astype(m[2], copy=False)).view(*s)\n"
     ]
    }
   ],
   "source": [
    "train_ds = datasets.MNIST(path2data, train=True, transform=transforms.Compose([transforms.ToTensor(),transforms.Normalize([0.5],[0.5])]), download=True)"
   ]
  },
  {
   "cell_type": "code",
   "execution_count": 5,
   "id": "770eedf2",
   "metadata": {},
   "outputs": [
    {
     "data": {
      "text/plain": [
       "<matplotlib.image.AxesImage at 0x285445980a0>"
      ]
     },
     "execution_count": 5,
     "metadata": {},
     "output_type": "execute_result"
    },
    {
     "data": {
      "image/png": "[encoded data removed]",
      "text/plain": [
       "<Figure size 432x288 with 1 Axes>"
      ]
     },
     "metadata": {
      "needs_background": "light"
     },
     "output_type": "display_data"
    }
   ],
   "source": [
    "# 샘플 이미지 확인\n",
    "img, label = train_ds[0]\n",
    "plt.imshow(to_pil_image(img),cmap='gray')"
   ]
  },
  {
   "cell_type": "code",
   "execution_count": 6,
   "id": "ec547c82",
   "metadata": {},
   "outputs": [
    {
     "name": "stdout",
     "output_type": "stream",
     "text": [
      "torch.Size([64, 1, 28, 28]) torch.Size([64])\n"
     ]
    }
   ],
   "source": [
    "# 데이터 로더 생성\n",
    "train_dl = DataLoader(train_ds, batch_size=64, shuffle=True)\n",
    "\n",
    "# check\n",
    "for x, y in train_dl:\n",
    "    print(x.shape, y.shape)\n",
    "    break"
   ]
  },
  {
   "cell_type": "code",
   "execution_count": 12,
   "id": "ecda31e4",
   "metadata": {},
   "outputs": [],
   "source": [
    "# Generator는 Noise이미지를 입력받아, 이미지를 생성하는 역할을 합니다.\n",
    "\n",
    "class Generator(nn.Module):\n",
    "    def __init__(self, params):\n",
    "        super().__init__()\n",
    "        self.nz = params['nz']  # input Noise Vevtor\n",
    "        self.img_size = params['img_size']\n",
    "        \n",
    "        self.model = nn.Sequential(\n",
    "            *self._fc_layer(self.nz, 128, normalize = False),\n",
    "            *self._fc_layer(128, 256),\n",
    "            *self._fc_layer(256, 512),\n",
    "            *self._fc_layer(512, 1024),\n",
    "            # prod는 곱을 의미합니다. 1*28*28 = 784\n",
    "            nn.Linear(1024, int(np.prod(self.img_size))),\n",
    "            nn.Tanh()\n",
    "        )\n",
    "    \n",
    "    def forward(self, z):\n",
    "        img = self.model(z)\n",
    "        img = img.view(img.size(0), *self.img_size)\n",
    "        return img\n",
    "    \n",
    "    def _fc_layer(self, in_channels, out_channels, normalize = True):\n",
    "        layers = []\n",
    "        layers.append(nn.Linear(in_channels, out_channels))\n",
    "        if normalize:\n",
    "            layers.append(nn.BatchNorm1d(out_channels, 0.8))\n",
    "        \n",
    "        layers.append(nn.LeakyReLU(0.2))\n",
    "        return layers"
   ]
  },
  {
   "cell_type": "code",
   "execution_count": 13,
   "id": "e055aa16",
   "metadata": {},
   "outputs": [
    {
     "name": "stdout",
     "output_type": "stream",
     "text": [
      "torch.Size([16, 1, 28, 28])\n"
     ]
    }
   ],
   "source": [
    "params = {'nz' : 100,\n",
    "          'img_size' : (1, 28, 28)}\n",
    "\n",
    "x = torch.randn(16, 100).to(device)\n",
    "model_gen = Generator(params).to(device)\n",
    "output = model_gen(x) # noise를 입력받아 이미지 생성\n",
    "print(output.shape)"
   ]
  },
  {
   "cell_type": "code",
   "execution_count": 14,
   "id": "b624bd57",
   "metadata": {},
   "outputs": [
    {
     "name": "stdout",
     "output_type": "stream",
     "text": [
      "torch.Size([16, 1])\n"
     ]
    }
   ],
   "source": [
    "class Discriminator(nn.Module):\n",
    "    def __init__(self, params):\n",
    "        super().__init__()\n",
    "        self.img_size = params['img_size']\n",
    "        \n",
    "        self.model = nn.Sequential(\n",
    "            nn.Linear(int(np.prod(self.img_size)), 512),\n",
    "            nn.LeakyReLU(0.2),\n",
    "            nn.Linear(512, 256),\n",
    "            nn.LeakyReLU(0.2),\n",
    "            nn.Linear(256, 1),\n",
    "            nn.Sigmoid()\n",
    "        )\n",
    "    \n",
    "    def forward(self, x):\n",
    "        x = x.view(x.size(0), -1)\n",
    "        x = self.model(x)\n",
    "        return x\n",
    "\n",
    "x = torch.randn(16, 1, 28, 28).to(device)\n",
    "model_dis = Discriminator(params).to(device)\n",
    "output = model_dis(x)\n",
    "print(output.shape)"
   ]
  },
  {
   "cell_type": "code",
   "execution_count": 16,
   "id": "1bfd5b7a",
   "metadata": {},
   "outputs": [],
   "source": [
    "# 가중치 초기화\n",
    "def initialize_weights(model):\n",
    "    classname = model.__class__.__name__\n",
    "    # fc layer\n",
    "    if classname.find('Linear') != -1:\n",
    "        nn.init.normal_(model.weight.data, 0.0, 0.02)\n",
    "        nn.init.constant_(model.bias.data, 0)\n",
    "    # batchnorm\n",
    "    elif classname.find('BatchNorm') != -1:\n",
    "        nn.init.normal_(model.weight.data, 1.0, 0.02)\n",
    "        nn.init.constant_(model.bias.data, 0)\n",
    "\n",
    "# 가중치 초기화 적용\n",
    "model_gen.apply(initialize_weights);\n",
    "model_dis.apply(initialize_weights);"
   ]
  },
  {
   "cell_type": "code",
   "execution_count": 17,
   "id": "88bf198d",
   "metadata": {},
   "outputs": [],
   "source": [
    "# 손실 함수\n",
    "loss_func = nn.BCELoss()\n",
    "\n",
    "from torch import optim\n",
    "\n",
    "# 최적화 파라미터\n",
    "lr = 2e-4\n",
    "beta1 = 0.5\n",
    "\n",
    "opt_dis = optim.Adam(model_dis.parameters(),lr=lr,betas=(beta1,0.999))\n",
    "opt_gen = optim.Adam(model_gen.parameters(),lr=lr,betas=(beta1,0.999))"
   ]
  },
  {
   "cell_type": "code",
   "execution_count": 19,
   "id": "efa8df46",
   "metadata": {},
   "outputs": [],
   "source": [
    "real_label = 1.\n",
    "fake_label = 0.\n",
    "nz = params['nz']\n",
    "num_epochs = 300\n",
    "\n",
    "loss_history={'gen':[],\n",
    "              'dis':[]}"
   ]
  },
  {
   "cell_type": "code",
   "execution_count": 22,
   "id": "38f0eb22",
   "metadata": {},
   "outputs": [
    {
     "name": "stdout",
     "output_type": "stream",
     "text": [
      "Epoch: 1, G_Loss: 1.228217, D_Loss: 0.358905, time: 0.19 min\n",
      "Epoch: 2, G_Loss: 0.879984, D_Loss: 0.369592, time: 0.37 min\n",
      "Epoch: 3, G_Loss: 1.500987, D_Loss: 0.239487, time: 0.56 min\n",
      "Epoch: 4, G_Loss: 1.721232, D_Loss: 0.272989, time: 0.74 min\n",
      "Epoch: 5, G_Loss: 1.400130, D_Loss: 0.221953, time: 0.93 min\n",
      "Epoch: 6, G_Loss: 3.220726, D_Loss: 0.266584, time: 1.11 min\n",
      "Epoch: 7, G_Loss: 0.888644, D_Loss: 0.348930, time: 1.30 min\n",
      "Epoch: 8, G_Loss: 1.458319, D_Loss: 0.211361, time: 1.49 min\n",
      "Epoch: 9, G_Loss: 2.297022, D_Loss: 0.136782, time: 1.67 min\n",
      "Epoch: 10, G_Loss: 1.787906, D_Loss: 0.173484, time: 1.86 min\n",
      "Epoch: 11, G_Loss: 2.468176, D_Loss: 0.161331, time: 2.04 min\n",
      "Epoch: 12, G_Loss: 2.476079, D_Loss: 0.208641, time: 2.23 min\n",
      "Epoch: 13, G_Loss: 1.706085, D_Loss: 0.166675, time: 2.42 min\n",
      "Epoch: 14, G_Loss: 1.870277, D_Loss: 0.230256, time: 2.61 min\n",
      "Epoch: 15, G_Loss: 3.911292, D_Loss: 0.088488, time: 2.79 min\n",
      "Epoch: 17, G_Loss: 2.025027, D_Loss: 0.223186, time: 2.98 min\n",
      "Epoch: 18, G_Loss: 3.061141, D_Loss: 0.160484, time: 3.16 min\n",
      "Epoch: 19, G_Loss: 1.769856, D_Loss: 0.328522, time: 3.35 min\n",
      "Epoch: 20, G_Loss: 4.219892, D_Loss: 0.338861, time: 3.53 min\n",
      "Epoch: 21, G_Loss: 2.420154, D_Loss: 0.210332, time: 3.71 min\n",
      "Epoch: 22, G_Loss: 1.267094, D_Loss: 0.233749, time: 3.90 min\n",
      "Epoch: 23, G_Loss: 1.075592, D_Loss: 0.256339, time: 4.08 min\n",
      "Epoch: 24, G_Loss: 4.882793, D_Loss: 0.144567, time: 4.27 min\n",
      "Epoch: 25, G_Loss: 2.948908, D_Loss: 0.094122, time: 4.45 min\n",
      "Epoch: 26, G_Loss: 1.959255, D_Loss: 0.152093, time: 4.64 min\n",
      "Epoch: 27, G_Loss: 2.146745, D_Loss: 0.214967, time: 4.82 min\n",
      "Epoch: 28, G_Loss: 2.893769, D_Loss: 0.141613, time: 5.01 min\n",
      "Epoch: 29, G_Loss: 1.947293, D_Loss: 0.180706, time: 5.19 min\n",
      "Epoch: 30, G_Loss: 3.906666, D_Loss: 0.094802, time: 5.38 min\n",
      "Epoch: 31, G_Loss: 2.872497, D_Loss: 0.122543, time: 5.56 min\n",
      "Epoch: 33, G_Loss: 4.421559, D_Loss: 0.107005, time: 5.75 min\n",
      "Epoch: 34, G_Loss: 6.348973, D_Loss: 0.220100, time: 5.93 min\n",
      "Epoch: 35, G_Loss: 2.449984, D_Loss: 0.122343, time: 6.12 min\n",
      "Epoch: 36, G_Loss: 2.709014, D_Loss: 0.087444, time: 6.30 min\n",
      "Epoch: 37, G_Loss: 3.070613, D_Loss: 0.072783, time: 6.49 min\n",
      "Epoch: 38, G_Loss: 3.450548, D_Loss: 0.161722, time: 6.67 min\n",
      "Epoch: 39, G_Loss: 1.576446, D_Loss: 0.318611, time: 6.85 min\n",
      "Epoch: 40, G_Loss: 1.842226, D_Loss: 0.223879, time: 7.04 min\n",
      "Epoch: 41, G_Loss: 1.239565, D_Loss: 0.259474, time: 7.22 min\n",
      "Epoch: 42, G_Loss: 4.369176, D_Loss: 0.324948, time: 7.41 min\n",
      "Epoch: 43, G_Loss: 2.541215, D_Loss: 0.086825, time: 7.59 min\n",
      "Epoch: 44, G_Loss: 4.257825, D_Loss: 0.078532, time: 7.78 min\n",
      "Epoch: 45, G_Loss: 3.730741, D_Loss: 0.066364, time: 7.96 min\n",
      "Epoch: 46, G_Loss: 7.237649, D_Loss: 0.178411, time: 8.14 min\n",
      "Epoch: 47, G_Loss: 5.387477, D_Loss: 0.261896, time: 8.32 min\n",
      "Epoch: 49, G_Loss: 2.806023, D_Loss: 0.163098, time: 8.51 min\n",
      "Epoch: 50, G_Loss: 1.573008, D_Loss: 0.251687, time: 8.69 min\n",
      "Epoch: 51, G_Loss: 3.132958, D_Loss: 0.042341, time: 8.87 min\n",
      "Epoch: 52, G_Loss: 2.463132, D_Loss: 0.151268, time: 9.05 min\n",
      "Epoch: 53, G_Loss: 3.414608, D_Loss: 0.129922, time: 9.24 min\n",
      "Epoch: 54, G_Loss: 3.008228, D_Loss: 0.121608, time: 9.42 min\n",
      "Epoch: 55, G_Loss: 5.463902, D_Loss: 0.384336, time: 9.60 min\n",
      "Epoch: 56, G_Loss: 2.843923, D_Loss: 0.103277, time: 9.79 min\n",
      "Epoch: 57, G_Loss: 0.693445, D_Loss: 0.427444, time: 9.97 min\n",
      "Epoch: 58, G_Loss: 3.468738, D_Loss: 0.057551, time: 10.16 min\n",
      "Epoch: 59, G_Loss: 2.547847, D_Loss: 0.168435, time: 10.34 min\n",
      "Epoch: 60, G_Loss: 2.283312, D_Loss: 0.147939, time: 10.52 min\n",
      "Epoch: 61, G_Loss: 3.372260, D_Loss: 0.122794, time: 10.71 min\n",
      "Epoch: 62, G_Loss: 2.830204, D_Loss: 0.147210, time: 10.89 min\n",
      "Epoch: 63, G_Loss: 3.008469, D_Loss: 0.077836, time: 11.07 min\n",
      "Epoch: 65, G_Loss: 1.369435, D_Loss: 0.392873, time: 11.26 min\n",
      "Epoch: 66, G_Loss: 4.041084, D_Loss: 0.211503, time: 11.44 min\n",
      "Epoch: 67, G_Loss: 3.284403, D_Loss: 0.125531, time: 11.62 min\n",
      "Epoch: 68, G_Loss: 3.230662, D_Loss: 0.156866, time: 11.80 min\n",
      "Epoch: 69, G_Loss: 2.577119, D_Loss: 0.116156, time: 11.99 min\n",
      "Epoch: 70, G_Loss: 2.673986, D_Loss: 0.229828, time: 12.17 min\n",
      "Epoch: 71, G_Loss: 0.780419, D_Loss: 0.478894, time: 12.35 min\n",
      "Epoch: 72, G_Loss: 4.603966, D_Loss: 0.159531, time: 12.53 min\n",
      "Epoch: 73, G_Loss: 3.074593, D_Loss: 0.148151, time: 12.72 min\n",
      "Epoch: 74, G_Loss: 4.290662, D_Loss: 0.123808, time: 12.90 min\n",
      "Epoch: 75, G_Loss: 3.330238, D_Loss: 0.276281, time: 13.09 min\n",
      "Epoch: 76, G_Loss: 2.208759, D_Loss: 0.208910, time: 13.27 min\n",
      "Epoch: 77, G_Loss: 4.253855, D_Loss: 0.135540, time: 13.45 min\n",
      "Epoch: 78, G_Loss: 2.137980, D_Loss: 0.218051, time: 13.64 min\n",
      "Epoch: 79, G_Loss: 3.484598, D_Loss: 0.083087, time: 13.82 min\n",
      "Epoch: 81, G_Loss: 2.962749, D_Loss: 0.118991, time: 14.00 min\n",
      "Epoch: 82, G_Loss: 2.966639, D_Loss: 0.183573, time: 14.18 min\n",
      "Epoch: 83, G_Loss: 3.760471, D_Loss: 0.087683, time: 14.36 min\n",
      "Epoch: 84, G_Loss: 3.747964, D_Loss: 0.247419, time: 14.54 min\n",
      "Epoch: 85, G_Loss: 1.792064, D_Loss: 0.193344, time: 14.73 min\n",
      "Epoch: 86, G_Loss: 3.229418, D_Loss: 0.159621, time: 14.91 min\n",
      "Epoch: 87, G_Loss: 3.113890, D_Loss: 0.134449, time: 15.09 min\n",
      "Epoch: 88, G_Loss: 3.218768, D_Loss: 0.076289, time: 15.27 min\n",
      "Epoch: 89, G_Loss: 9.933110, D_Loss: 0.659721, time: 15.46 min\n",
      "Epoch: 90, G_Loss: 6.264094, D_Loss: 0.180095, time: 15.64 min\n",
      "Epoch: 91, G_Loss: 3.705311, D_Loss: 0.170500, time: 15.82 min\n",
      "Epoch: 92, G_Loss: 2.799624, D_Loss: 0.258611, time: 16.00 min\n",
      "Epoch: 93, G_Loss: 3.698530, D_Loss: 0.107237, time: 16.19 min\n",
      "Epoch: 94, G_Loss: 6.208570, D_Loss: 0.147488, time: 16.37 min\n",
      "Epoch: 95, G_Loss: 3.508806, D_Loss: 0.134913, time: 16.55 min\n",
      "Epoch: 97, G_Loss: 3.246274, D_Loss: 0.133140, time: 16.73 min\n",
      "Epoch: 98, G_Loss: 2.302365, D_Loss: 0.165741, time: 16.92 min\n",
      "Epoch: 99, G_Loss: 2.933338, D_Loss: 0.193130, time: 17.10 min\n",
      "Epoch: 100, G_Loss: 1.061776, D_Loss: 0.320724, time: 17.28 min\n",
      "Epoch: 101, G_Loss: 2.813025, D_Loss: 0.102871, time: 17.47 min\n",
      "Epoch: 102, G_Loss: 1.906312, D_Loss: 0.278451, time: 17.65 min\n",
      "Epoch: 103, G_Loss: 3.357056, D_Loss: 0.289872, time: 17.83 min\n",
      "Epoch: 104, G_Loss: 3.241085, D_Loss: 0.173904, time: 18.01 min\n",
      "Epoch: 105, G_Loss: 4.732492, D_Loss: 0.332148, time: 18.19 min\n",
      "Epoch: 106, G_Loss: 2.760242, D_Loss: 0.122298, time: 18.37 min\n",
      "Epoch: 107, G_Loss: 2.308096, D_Loss: 0.107208, time: 18.55 min\n",
      "Epoch: 108, G_Loss: 3.359084, D_Loss: 0.095967, time: 18.73 min\n",
      "Epoch: 109, G_Loss: 3.202180, D_Loss: 0.161463, time: 18.91 min\n",
      "Epoch: 110, G_Loss: 2.630408, D_Loss: 0.182116, time: 19.09 min\n",
      "Epoch: 111, G_Loss: 3.177353, D_Loss: 0.160634, time: 19.27 min\n",
      "Epoch: 113, G_Loss: 2.656750, D_Loss: 0.165249, time: 19.45 min\n",
      "Epoch: 114, G_Loss: 2.792172, D_Loss: 0.130635, time: 19.63 min\n",
      "Epoch: 115, G_Loss: 5.025756, D_Loss: 0.263741, time: 19.81 min\n",
      "Epoch: 116, G_Loss: 3.495070, D_Loss: 0.240191, time: 20.00 min\n",
      "Epoch: 117, G_Loss: 1.623939, D_Loss: 0.286479, time: 20.17 min\n",
      "Epoch: 118, G_Loss: 3.232019, D_Loss: 0.118639, time: 20.36 min\n",
      "Epoch: 119, G_Loss: 2.773929, D_Loss: 0.231877, time: 20.54 min\n",
      "Epoch: 120, G_Loss: 3.613380, D_Loss: 0.047982, time: 20.72 min\n",
      "Epoch: 121, G_Loss: 2.840309, D_Loss: 0.121471, time: 20.90 min\n",
      "Epoch: 122, G_Loss: 2.370158, D_Loss: 0.142191, time: 21.08 min\n",
      "Epoch: 123, G_Loss: 3.661819, D_Loss: 0.064519, time: 21.26 min\n",
      "Epoch: 124, G_Loss: 3.813665, D_Loss: 0.128580, time: 21.45 min\n",
      "Epoch: 125, G_Loss: 2.908666, D_Loss: 0.102859, time: 21.63 min\n",
      "Epoch: 126, G_Loss: 1.418271, D_Loss: 0.396776, time: 21.81 min\n",
      "Epoch: 127, G_Loss: 2.937304, D_Loss: 0.120781, time: 22.00 min\n",
      "Epoch: 128, G_Loss: 3.403815, D_Loss: 0.201472, time: 22.18 min\n",
      "Epoch: 130, G_Loss: 3.066589, D_Loss: 0.216853, time: 22.36 min\n",
      "Epoch: 131, G_Loss: 7.492697, D_Loss: 0.272458, time: 22.55 min\n",
      "Epoch: 132, G_Loss: 3.309443, D_Loss: 0.153080, time: 22.73 min\n",
      "Epoch: 133, G_Loss: 2.659246, D_Loss: 0.132774, time: 22.91 min\n",
      "Epoch: 134, G_Loss: 2.613118, D_Loss: 0.172214, time: 23.10 min\n",
      "Epoch: 135, G_Loss: 1.756241, D_Loss: 0.253102, time: 23.28 min\n",
      "Epoch: 136, G_Loss: 1.671870, D_Loss: 0.182925, time: 23.46 min\n",
      "Epoch: 137, G_Loss: 4.478650, D_Loss: 0.265297, time: 23.64 min\n",
      "Epoch: 138, G_Loss: 2.019524, D_Loss: 0.183319, time: 23.82 min\n",
      "Epoch: 139, G_Loss: 2.037742, D_Loss: 0.180339, time: 24.00 min\n"
     ]
    },
    {
     "name": "stdout",
     "output_type": "stream",
     "text": [
      "Epoch: 140, G_Loss: 2.255023, D_Loss: 0.134340, time: 24.19 min\n",
      "Epoch: 141, G_Loss: 1.670558, D_Loss: 0.267076, time: 24.37 min\n",
      "Epoch: 142, G_Loss: 2.393305, D_Loss: 0.196741, time: 24.55 min\n",
      "Epoch: 143, G_Loss: 3.621790, D_Loss: 0.149253, time: 24.73 min\n",
      "Epoch: 144, G_Loss: 3.120784, D_Loss: 0.213187, time: 24.91 min\n",
      "Epoch: 146, G_Loss: 3.033519, D_Loss: 0.127878, time: 25.09 min\n",
      "Epoch: 147, G_Loss: 3.354189, D_Loss: 0.273345, time: 25.28 min\n",
      "Epoch: 148, G_Loss: 3.228151, D_Loss: 0.217085, time: 25.46 min\n",
      "Epoch: 149, G_Loss: 4.026707, D_Loss: 0.133853, time: 25.64 min\n",
      "Epoch: 150, G_Loss: 2.876618, D_Loss: 0.150724, time: 25.83 min\n",
      "Epoch: 151, G_Loss: 3.755374, D_Loss: 0.224413, time: 26.01 min\n",
      "Epoch: 152, G_Loss: 4.719137, D_Loss: 0.370377, time: 26.20 min\n",
      "Epoch: 153, G_Loss: 2.300195, D_Loss: 0.181374, time: 26.38 min\n",
      "Epoch: 154, G_Loss: 2.697819, D_Loss: 0.182344, time: 26.56 min\n",
      "Epoch: 155, G_Loss: 3.482620, D_Loss: 0.115999, time: 26.75 min\n",
      "Epoch: 156, G_Loss: 3.929637, D_Loss: 0.090321, time: 26.93 min\n",
      "Epoch: 157, G_Loss: 3.493500, D_Loss: 0.333904, time: 27.11 min\n",
      "Epoch: 158, G_Loss: 4.038678, D_Loss: 0.141329, time: 27.30 min\n",
      "Epoch: 159, G_Loss: 3.864612, D_Loss: 0.156808, time: 27.48 min\n",
      "Epoch: 160, G_Loss: 4.199969, D_Loss: 0.276822, time: 27.67 min\n",
      "Epoch: 162, G_Loss: 4.264537, D_Loss: 0.218593, time: 27.85 min\n",
      "Epoch: 163, G_Loss: 4.270858, D_Loss: 0.110284, time: 28.03 min\n",
      "Epoch: 164, G_Loss: 3.134320, D_Loss: 0.134134, time: 28.21 min\n",
      "Epoch: 165, G_Loss: 2.439508, D_Loss: 0.162439, time: 28.40 min\n",
      "Epoch: 166, G_Loss: 3.004561, D_Loss: 0.102074, time: 28.58 min\n",
      "Epoch: 167, G_Loss: 3.914142, D_Loss: 0.163293, time: 28.76 min\n",
      "Epoch: 168, G_Loss: 4.653317, D_Loss: 0.212705, time: 28.94 min\n",
      "Epoch: 169, G_Loss: 3.800781, D_Loss: 0.076098, time: 29.12 min\n",
      "Epoch: 170, G_Loss: 5.169707, D_Loss: 0.141232, time: 29.30 min\n",
      "Epoch: 171, G_Loss: 2.477970, D_Loss: 0.111026, time: 29.49 min\n",
      "Epoch: 172, G_Loss: 5.073438, D_Loss: 0.129685, time: 29.67 min\n",
      "Epoch: 173, G_Loss: 2.978885, D_Loss: 0.085384, time: 29.85 min\n",
      "Epoch: 174, G_Loss: 2.852486, D_Loss: 0.269175, time: 30.03 min\n",
      "Epoch: 175, G_Loss: 6.884871, D_Loss: 0.235431, time: 30.22 min\n",
      "Epoch: 176, G_Loss: 1.713645, D_Loss: 0.164301, time: 30.40 min\n",
      "Epoch: 178, G_Loss: 3.106506, D_Loss: 0.147699, time: 30.58 min\n",
      "Epoch: 179, G_Loss: 3.561111, D_Loss: 0.254346, time: 30.77 min\n",
      "Epoch: 180, G_Loss: 2.422331, D_Loss: 0.131080, time: 30.95 min\n",
      "Epoch: 181, G_Loss: 4.083494, D_Loss: 0.034441, time: 31.13 min\n",
      "Epoch: 182, G_Loss: 3.558042, D_Loss: 0.173672, time: 31.31 min\n",
      "Epoch: 183, G_Loss: 3.521446, D_Loss: 0.140723, time: 31.50 min\n",
      "Epoch: 184, G_Loss: 3.272249, D_Loss: 0.104483, time: 31.67 min\n",
      "Epoch: 185, G_Loss: 2.620653, D_Loss: 0.131060, time: 31.86 min\n",
      "Epoch: 186, G_Loss: 4.210346, D_Loss: 0.104151, time: 32.04 min\n",
      "Epoch: 187, G_Loss: 3.124753, D_Loss: 0.063415, time: 32.22 min\n",
      "Epoch: 188, G_Loss: 5.747693, D_Loss: 0.144516, time: 32.40 min\n",
      "Epoch: 189, G_Loss: 4.094292, D_Loss: 0.295465, time: 32.59 min\n",
      "Epoch: 190, G_Loss: 4.294507, D_Loss: 0.142451, time: 32.77 min\n",
      "Epoch: 191, G_Loss: 3.400830, D_Loss: 0.089018, time: 32.95 min\n",
      "Epoch: 192, G_Loss: 3.257247, D_Loss: 0.048540, time: 33.14 min\n",
      "Epoch: 194, G_Loss: 2.202865, D_Loss: 0.114982, time: 33.32 min\n",
      "Epoch: 195, G_Loss: 3.754739, D_Loss: 0.043859, time: 33.50 min\n",
      "Epoch: 196, G_Loss: 2.585060, D_Loss: 0.102879, time: 33.69 min\n",
      "Epoch: 197, G_Loss: 4.763725, D_Loss: 0.082840, time: 33.87 min\n",
      "Epoch: 198, G_Loss: 5.549265, D_Loss: 0.098145, time: 34.05 min\n",
      "Epoch: 199, G_Loss: 4.943444, D_Loss: 0.037688, time: 34.23 min\n",
      "Epoch: 200, G_Loss: 3.980188, D_Loss: 0.040609, time: 34.41 min\n",
      "Epoch: 201, G_Loss: 5.216612, D_Loss: 0.156323, time: 34.60 min\n",
      "Epoch: 202, G_Loss: 4.091334, D_Loss: 0.133319, time: 34.78 min\n",
      "Epoch: 203, G_Loss: 5.736254, D_Loss: 0.239538, time: 34.96 min\n",
      "Epoch: 204, G_Loss: 3.962723, D_Loss: 0.036930, time: 35.14 min\n",
      "Epoch: 205, G_Loss: 3.849658, D_Loss: 0.146400, time: 35.32 min\n",
      "Epoch: 206, G_Loss: 1.884295, D_Loss: 0.202305, time: 35.50 min\n",
      "Epoch: 207, G_Loss: 2.156239, D_Loss: 0.126698, time: 35.69 min\n",
      "Epoch: 208, G_Loss: 3.788563, D_Loss: 0.166538, time: 35.87 min\n",
      "Epoch: 210, G_Loss: 4.002350, D_Loss: 0.093006, time: 36.05 min\n",
      "Epoch: 211, G_Loss: 3.863420, D_Loss: 0.087913, time: 36.23 min\n",
      "Epoch: 212, G_Loss: 3.218233, D_Loss: 0.187751, time: 36.42 min\n",
      "Epoch: 213, G_Loss: 4.444805, D_Loss: 0.138847, time: 36.60 min\n",
      "Epoch: 214, G_Loss: 2.824503, D_Loss: 0.083275, time: 36.78 min\n",
      "Epoch: 215, G_Loss: 3.943295, D_Loss: 0.153050, time: 36.97 min\n",
      "Epoch: 216, G_Loss: 2.444802, D_Loss: 0.164820, time: 37.15 min\n",
      "Epoch: 217, G_Loss: 3.420005, D_Loss: 0.129512, time: 37.33 min\n",
      "Epoch: 218, G_Loss: 2.417367, D_Loss: 0.073207, time: 37.51 min\n",
      "Epoch: 219, G_Loss: 2.602785, D_Loss: 0.098106, time: 37.70 min\n",
      "Epoch: 220, G_Loss: 1.621702, D_Loss: 0.375280, time: 37.88 min\n",
      "Epoch: 221, G_Loss: 2.184014, D_Loss: 0.114311, time: 38.07 min\n",
      "Epoch: 222, G_Loss: 3.429152, D_Loss: 0.132094, time: 38.25 min\n",
      "Epoch: 223, G_Loss: 3.458489, D_Loss: 0.175312, time: 38.44 min\n",
      "Epoch: 224, G_Loss: 4.331359, D_Loss: 0.133863, time: 38.62 min\n",
      "Epoch: 226, G_Loss: 5.655432, D_Loss: 0.076390, time: 38.81 min\n",
      "Epoch: 227, G_Loss: 5.839331, D_Loss: 0.067753, time: 38.99 min\n",
      "Epoch: 228, G_Loss: 3.374359, D_Loss: 0.085177, time: 39.17 min\n",
      "Epoch: 229, G_Loss: 2.155837, D_Loss: 0.336727, time: 39.35 min\n",
      "Epoch: 230, G_Loss: 2.605270, D_Loss: 0.137658, time: 39.54 min\n",
      "Epoch: 231, G_Loss: 2.068446, D_Loss: 0.332117, time: 39.72 min\n",
      "Epoch: 232, G_Loss: 4.244510, D_Loss: 0.114640, time: 39.90 min\n",
      "Epoch: 233, G_Loss: 2.305413, D_Loss: 0.252896, time: 40.08 min\n",
      "Epoch: 234, G_Loss: 4.494353, D_Loss: 0.167643, time: 40.27 min\n",
      "Epoch: 235, G_Loss: 3.925679, D_Loss: 0.163898, time: 40.45 min\n",
      "Epoch: 236, G_Loss: 3.271902, D_Loss: 0.105333, time: 40.63 min\n",
      "Epoch: 237, G_Loss: 2.202614, D_Loss: 0.147100, time: 40.81 min\n",
      "Epoch: 238, G_Loss: 2.595440, D_Loss: 0.259944, time: 40.99 min\n",
      "Epoch: 239, G_Loss: 3.397195, D_Loss: 0.337422, time: 41.17 min\n",
      "Epoch: 240, G_Loss: 1.709488, D_Loss: 0.216459, time: 41.35 min\n",
      "Epoch: 242, G_Loss: 3.724082, D_Loss: 0.170970, time: 41.53 min\n",
      "Epoch: 243, G_Loss: 2.872376, D_Loss: 0.117947, time: 41.71 min\n",
      "Epoch: 244, G_Loss: 3.361487, D_Loss: 0.215812, time: 41.90 min\n",
      "Epoch: 245, G_Loss: 2.883480, D_Loss: 0.138425, time: 42.08 min\n",
      "Epoch: 246, G_Loss: 3.638064, D_Loss: 0.121385, time: 42.26 min\n",
      "Epoch: 247, G_Loss: 3.587185, D_Loss: 0.135172, time: 42.44 min\n",
      "Epoch: 248, G_Loss: 4.463352, D_Loss: 0.115818, time: 42.62 min\n",
      "Epoch: 249, G_Loss: 3.150605, D_Loss: 0.117164, time: 42.80 min\n",
      "Epoch: 250, G_Loss: 2.202091, D_Loss: 0.372227, time: 42.98 min\n",
      "Epoch: 251, G_Loss: 2.748299, D_Loss: 0.122651, time: 43.16 min\n",
      "Epoch: 252, G_Loss: 3.336728, D_Loss: 0.170815, time: 43.35 min\n",
      "Epoch: 253, G_Loss: 3.567002, D_Loss: 0.143292, time: 43.52 min\n",
      "Epoch: 254, G_Loss: 3.324847, D_Loss: 0.149772, time: 43.71 min\n",
      "Epoch: 255, G_Loss: 4.193195, D_Loss: 0.280617, time: 43.89 min\n",
      "Epoch: 256, G_Loss: 2.521770, D_Loss: 0.173640, time: 44.07 min\n",
      "Epoch: 257, G_Loss: 2.661654, D_Loss: 0.235365, time: 44.25 min\n",
      "Epoch: 259, G_Loss: 3.321211, D_Loss: 0.128021, time: 44.43 min\n",
      "Epoch: 260, G_Loss: 3.783698, D_Loss: 0.223344, time: 44.61 min\n",
      "Epoch: 261, G_Loss: 2.790658, D_Loss: 0.116597, time: 44.80 min\n",
      "Epoch: 262, G_Loss: 4.233735, D_Loss: 0.294820, time: 44.98 min\n",
      "Epoch: 263, G_Loss: 3.857915, D_Loss: 0.166933, time: 45.16 min\n",
      "Epoch: 264, G_Loss: 4.327429, D_Loss: 0.075140, time: 45.35 min\n",
      "Epoch: 265, G_Loss: 2.792369, D_Loss: 0.172479, time: 45.53 min\n",
      "Epoch: 266, G_Loss: 3.598616, D_Loss: 0.111370, time: 45.72 min\n",
      "Epoch: 267, G_Loss: 4.511799, D_Loss: 0.164139, time: 45.90 min\n",
      "Epoch: 268, G_Loss: 4.142110, D_Loss: 0.101693, time: 46.09 min\n",
      "Epoch: 269, G_Loss: 3.211347, D_Loss: 0.246682, time: 46.27 min\n",
      "Epoch: 270, G_Loss: 3.352444, D_Loss: 0.123569, time: 46.46 min\n",
      "Epoch: 271, G_Loss: 4.131358, D_Loss: 0.146965, time: 46.64 min\n",
      "Epoch: 272, G_Loss: 3.168579, D_Loss: 0.177081, time: 46.83 min\n",
      "Epoch: 273, G_Loss: 3.747590, D_Loss: 0.118994, time: 47.01 min\n",
      "Epoch: 275, G_Loss: 2.764647, D_Loss: 0.146102, time: 47.20 min\n",
      "Epoch: 276, G_Loss: 3.125874, D_Loss: 0.087331, time: 47.38 min\n",
      "Epoch: 277, G_Loss: 5.285063, D_Loss: 0.266694, time: 47.57 min\n"
     ]
    },
    {
     "name": "stdout",
     "output_type": "stream",
     "text": [
      "Epoch: 278, G_Loss: 2.855769, D_Loss: 0.149771, time: 47.75 min\n",
      "Epoch: 279, G_Loss: 2.914969, D_Loss: 0.142521, time: 47.94 min\n",
      "Epoch: 280, G_Loss: 4.718407, D_Loss: 0.155954, time: 48.12 min\n",
      "Epoch: 281, G_Loss: 2.542196, D_Loss: 0.208643, time: 48.31 min\n",
      "Epoch: 282, G_Loss: 3.326223, D_Loss: 0.158181, time: 48.49 min\n",
      "Epoch: 283, G_Loss: 3.401133, D_Loss: 0.090078, time: 48.68 min\n",
      "Epoch: 284, G_Loss: 2.806655, D_Loss: 0.178692, time: 48.86 min\n",
      "Epoch: 285, G_Loss: 3.386417, D_Loss: 0.116948, time: 49.05 min\n",
      "Epoch: 286, G_Loss: 3.026511, D_Loss: 0.149740, time: 49.23 min\n",
      "Epoch: 287, G_Loss: 2.852320, D_Loss: 0.168144, time: 49.42 min\n",
      "Epoch: 288, G_Loss: 4.311176, D_Loss: 0.110021, time: 49.60 min\n",
      "Epoch: 289, G_Loss: 2.976110, D_Loss: 0.115369, time: 49.79 min\n",
      "Epoch: 291, G_Loss: 2.502585, D_Loss: 0.120359, time: 49.98 min\n",
      "Epoch: 292, G_Loss: 3.658727, D_Loss: 0.211244, time: 50.16 min\n",
      "Epoch: 293, G_Loss: 3.176110, D_Loss: 0.238833, time: 50.34 min\n",
      "Epoch: 294, G_Loss: 3.781991, D_Loss: 0.169901, time: 50.52 min\n",
      "Epoch: 295, G_Loss: 3.275293, D_Loss: 0.085020, time: 50.71 min\n",
      "Epoch: 296, G_Loss: 2.342276, D_Loss: 0.425788, time: 50.89 min\n",
      "Epoch: 297, G_Loss: 3.325351, D_Loss: 0.138205, time: 51.07 min\n",
      "Epoch: 298, G_Loss: 3.381185, D_Loss: 0.081737, time: 51.26 min\n",
      "Epoch: 299, G_Loss: 5.049993, D_Loss: 0.211851, time: 51.45 min\n"
     ]
    }
   ],
   "source": [
    "batch_count = 0\n",
    "start_time = time.time()\n",
    "model_dis.train()\n",
    "model_gen.train()\n",
    "\n",
    "for epoch in range(num_epochs):\n",
    "    for xb, yb in train_dl:\n",
    "        ba_si = xb.size(0)\n",
    "        xb = xb.to(device)\n",
    "        yb_real = torch.Tensor(ba_si, 1).fill_(1.0).to(device)\n",
    "        yb_fake = torch.Tensor(ba_si, 1).fill_(0.0).to(device)\n",
    "        \n",
    "        # Generator\n",
    "        model_gen.zero_grad()\n",
    "        noise = torch.randn(ba_si, nz, device = device)\n",
    "        out_gen = model_gen(noise)  # 가짜 이미지 생성\n",
    "        out_dis = model_dis(out_gen)  # 가짜 이미지 판별\n",
    "        \n",
    "        loss_gen = loss_func(out_dis, yb_real)\n",
    "        loss_gen.backward()\n",
    "        opt_gen.step()\n",
    "        \n",
    "        model_dis.zero_grad()\n",
    "        \n",
    "        out_real = model_dis(xb)\n",
    "        out_fake = model_dis(out_gen.detach())\n",
    "        loss_real = loss_func(out_real, yb_real)\n",
    "        loss_fake = loss_func(out_fake, yb_fake)\n",
    "        loss_dis = (loss_real + loss_fake) / 2\n",
    "        \n",
    "        loss_dis.backward()\n",
    "        opt_dis.step()\n",
    "        \n",
    "        loss_history['gen'].append(loss_gen.item())\n",
    "        loss_history['dis'].append(loss_dis.item())\n",
    "        \n",
    "        batch_count += 1\n",
    "        if batch_count % 1000 == 0:\n",
    "            print('Epoch: %.0f, G_Loss: %.6f, D_Loss: %.6f, time: %.2f min' %(epoch, loss_gen.item(), loss_dis.item(), (time.time()-start_time)/60))"
   ]
  },
  {
   "cell_type": "code",
   "execution_count": 23,
   "id": "a51668a0",
   "metadata": {},
   "outputs": [
    {
     "data": {
      "image/png": "[encoded data removed]",
      "text/plain": [
       "<Figure size 720x360 with 1 Axes>"
      ]
     },
     "metadata": {
      "needs_background": "light"
     },
     "output_type": "display_data"
    }
   ],
   "source": [
    "plt.figure(figsize=(10,5))\n",
    "plt.title('Loss Progress')\n",
    "plt.plot(loss_history['gen'], label='Gen. Loss')\n",
    "plt.plot(loss_history['dis'], label='Dis. Loss')\n",
    "plt.xlabel('batch count')\n",
    "plt.ylabel('Loss')\n",
    "plt.legend()\n",
    "plt.show()"
   ]
  },
  {
   "cell_type": "code",
   "execution_count": 24,
   "id": "11485da5",
   "metadata": {},
   "outputs": [
    {
     "name": "stdout",
     "output_type": "stream",
     "text": [
      "torch.Size([16, 1, 28, 28])\n"
     ]
    }
   ],
   "source": [
    "model_gen.eval()\n",
    "\n",
    "# fake image 생성\n",
    "with torch.no_grad():\n",
    "    fixed_noise = torch.randn(16, 100, device=device)\n",
    "    img_fake = model_gen(fixed_noise).detach().cpu()\n",
    "print(img_fake.shape)"
   ]
  },
  {
   "cell_type": "code",
   "execution_count": 25,
   "id": "a892afcf",
   "metadata": {},
   "outputs": [
    {
     "data": {
      "image/png": "[encoded data removed]",
      "text/plain": [
       "<Figure size 720x720 with 16 Axes>"
      ]
     },
     "metadata": {
      "needs_background": "light"
     },
     "output_type": "display_data"
    }
   ],
   "source": [
    "plt.figure(figsize=(10,10))\n",
    "for ii in range(16):\n",
    "    plt.subplot(4,4,ii+1)\n",
    "    plt.imshow(to_pil_image(0.5*img_fake[ii]+0.5),cmap='gray')\n",
    "    plt.axis('off')"
   ]
  }
 ],
 "metadata": {
  "kernelspec": {
   "display_name": "Python 3 (ipykernel)",
   "language": "python",
   "name": "python3"
  },
  "language_info": {
   "codemirror_mode": {
    "name": "ipython",
    "version": 3
   },
   "file_extension": ".py",
   "mimetype": "text/x-python",
   "name": "python",
   "nbconvert_exporter": "python",
   "pygments_lexer": "ipython3",
   "version": "3.9.7"
  }
 },
 "nbformat": 4,
 "nbformat_minor": 5
}
